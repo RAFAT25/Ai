{
 "cells": [
  {
   "cell_type": "code",
   "execution_count": 1,
   "id": "c1e980b9",
   "metadata": {},
   "outputs": [],
   "source": [
    "import pandas as pd"
   ]
  },
  {
   "cell_type": "code",
   "execution_count": 3,
   "id": "b89af082",
   "metadata": {},
   "outputs": [],
   "source": [
    "df = pd.read_csv(\"moviereviews.tsv\",delimiter='\\t')"
   ]
  },
  {
   "cell_type": "code",
   "execution_count": 4,
   "id": "d494863c",
   "metadata": {},
   "outputs": [
    {
     "data": {
      "text/html": [
       "<div>\n",
       "<style scoped>\n",
       "    .dataframe tbody tr th:only-of-type {\n",
       "        vertical-align: middle;\n",
       "    }\n",
       "\n",
       "    .dataframe tbody tr th {\n",
       "        vertical-align: top;\n",
       "    }\n",
       "\n",
       "    .dataframe thead th {\n",
       "        text-align: right;\n",
       "    }\n",
       "</style>\n",
       "<table border=\"1\" class=\"dataframe\">\n",
       "  <thead>\n",
       "    <tr style=\"text-align: right;\">\n",
       "      <th></th>\n",
       "      <th>label</th>\n",
       "      <th>review</th>\n",
       "    </tr>\n",
       "  </thead>\n",
       "  <tbody>\n",
       "    <tr>\n",
       "      <th>0</th>\n",
       "      <td>neg</td>\n",
       "      <td>how do films like mouse hunt get into theatres...</td>\n",
       "    </tr>\n",
       "    <tr>\n",
       "      <th>1</th>\n",
       "      <td>neg</td>\n",
       "      <td>some talented actresses are blessed with a dem...</td>\n",
       "    </tr>\n",
       "    <tr>\n",
       "      <th>2</th>\n",
       "      <td>pos</td>\n",
       "      <td>this has been an extraordinary year for austra...</td>\n",
       "    </tr>\n",
       "    <tr>\n",
       "      <th>3</th>\n",
       "      <td>pos</td>\n",
       "      <td>according to hollywood movies made in last few...</td>\n",
       "    </tr>\n",
       "    <tr>\n",
       "      <th>4</th>\n",
       "      <td>neg</td>\n",
       "      <td>my first press screening of 1998 and already i...</td>\n",
       "    </tr>\n",
       "  </tbody>\n",
       "</table>\n",
       "</div>"
      ],
      "text/plain": [
       "  label                                             review\n",
       "0   neg  how do films like mouse hunt get into theatres...\n",
       "1   neg  some talented actresses are blessed with a dem...\n",
       "2   pos  this has been an extraordinary year for austra...\n",
       "3   pos  according to hollywood movies made in last few...\n",
       "4   neg  my first press screening of 1998 and already i..."
      ]
     },
     "execution_count": 4,
     "metadata": {},
     "output_type": "execute_result"
    }
   ],
   "source": [
    "df.head()"
   ]
  },
  {
   "cell_type": "code",
   "execution_count": 5,
   "id": "82a4ed3d",
   "metadata": {},
   "outputs": [
    {
     "data": {
      "text/html": [
       "<div>\n",
       "<style scoped>\n",
       "    .dataframe tbody tr th:only-of-type {\n",
       "        vertical-align: middle;\n",
       "    }\n",
       "\n",
       "    .dataframe tbody tr th {\n",
       "        vertical-align: top;\n",
       "    }\n",
       "\n",
       "    .dataframe thead th {\n",
       "        text-align: right;\n",
       "    }\n",
       "</style>\n",
       "<table border=\"1\" class=\"dataframe\">\n",
       "  <thead>\n",
       "    <tr style=\"text-align: right;\">\n",
       "      <th></th>\n",
       "      <th>label</th>\n",
       "      <th>review</th>\n",
       "    </tr>\n",
       "  </thead>\n",
       "  <tbody>\n",
       "    <tr>\n",
       "      <th>1995</th>\n",
       "      <td>pos</td>\n",
       "      <td>i like movies with albert brooks , and i reall...</td>\n",
       "    </tr>\n",
       "    <tr>\n",
       "      <th>1996</th>\n",
       "      <td>pos</td>\n",
       "      <td>it might surprise some to know that joel and e...</td>\n",
       "    </tr>\n",
       "    <tr>\n",
       "      <th>1997</th>\n",
       "      <td>pos</td>\n",
       "      <td>the verdict : spine-chilling drama from horror...</td>\n",
       "    </tr>\n",
       "    <tr>\n",
       "      <th>1998</th>\n",
       "      <td>pos</td>\n",
       "      <td>i want to correct what i wrote in a former ret...</td>\n",
       "    </tr>\n",
       "    <tr>\n",
       "      <th>1999</th>\n",
       "      <td>pos</td>\n",
       "      <td>a couple of months ago , when i first download...</td>\n",
       "    </tr>\n",
       "  </tbody>\n",
       "</table>\n",
       "</div>"
      ],
      "text/plain": [
       "     label                                             review\n",
       "1995   pos  i like movies with albert brooks , and i reall...\n",
       "1996   pos  it might surprise some to know that joel and e...\n",
       "1997   pos  the verdict : spine-chilling drama from horror...\n",
       "1998   pos  i want to correct what i wrote in a former ret...\n",
       "1999   pos  a couple of months ago , when i first download..."
      ]
     },
     "execution_count": 5,
     "metadata": {},
     "output_type": "execute_result"
    }
   ],
   "source": [
    "df.tail()"
   ]
  },
  {
   "cell_type": "code",
   "execution_count": 6,
   "id": "b50e39f9",
   "metadata": {},
   "outputs": [
    {
     "data": {
      "text/plain": [
       "(2000, 2)"
      ]
     },
     "execution_count": 6,
     "metadata": {},
     "output_type": "execute_result"
    }
   ],
   "source": [
    "df.shape"
   ]
  },
  {
   "cell_type": "code",
   "execution_count": 7,
   "id": "17be1334",
   "metadata": {},
   "outputs": [
    {
     "data": {
      "text/plain": [
       "neg    1000\n",
       "pos    1000\n",
       "Name: label, dtype: int64"
      ]
     },
     "execution_count": 7,
     "metadata": {},
     "output_type": "execute_result"
    }
   ],
   "source": [
    "df['label'].value_counts()"
   ]
  },
  {
   "cell_type": "code",
   "execution_count": 8,
   "id": "05f993ed",
   "metadata": {},
   "outputs": [
    {
     "data": {
      "text/plain": [
       "<AxesSubplot:>"
      ]
     },
     "execution_count": 8,
     "metadata": {},
     "output_type": "execute_result"
    },
    {
     "data": {
      "image/png": "[encoded data removed]",
      "text/plain": [
       "<Figure size 432x288 with 1 Axes>"
      ]
     },
     "metadata": {
      "needs_background": "light"
     },
     "output_type": "display_data"
    }
   ],
   "source": [
    "df['label'].value_counts().plot.bar()"
   ]
  },
  {
   "cell_type": "code",
   "execution_count": 10,
   "id": "2ec57f5e",
   "metadata": {
    "collapsed": true
   },
   "outputs": [
    {
     "data": {
      "text/plain": [
       "label      0\n",
       "review    35\n",
       "dtype: int64"
      ]
     },
     "execution_count": 10,
     "metadata": {},
     "output_type": "execute_result"
    }
   ],
   "source": [
    "df.isnull().sum()"
   ]
  },
  {
   "cell_type": "code",
   "execution_count": 13,
   "id": "fcec0550",
   "metadata": {},
   "outputs": [],
   "source": [
    "df = df.dropna()"
   ]
  },
  {
   "cell_type": "code",
   "execution_count": 14,
   "id": "fda569c3",
   "metadata": {},
   "outputs": [
    {
     "data": {
      "text/plain": [
       "(1965, 2)"
      ]
     },
     "execution_count": 14,
     "metadata": {},
     "output_type": "execute_result"
    }
   ],
   "source": [
    "df.shape"
   ]
  },
  {
   "cell_type": "code",
   "execution_count": 15,
   "id": "13e4a4e8",
   "metadata": {
    "collapsed": true
   },
   "outputs": [
    {
     "data": {
      "text/plain": [
       "neg    983\n",
       "pos    982\n",
       "Name: label, dtype: int64"
      ]
     },
     "execution_count": 15,
     "metadata": {},
     "output_type": "execute_result"
    }
   ],
   "source": [
    "df['label'].value_counts()"
   ]
  },
  {
   "cell_type": "code",
   "execution_count": 16,
   "id": "3a75b84b",
   "metadata": {},
   "outputs": [],
   "source": [
    "from nltk.stem.porter import PorterStemmer\n",
    "porter = PorterStemmer()"
   ]
  },
  {
   "cell_type": "code",
   "execution_count": 19,
   "id": "408dc0ab",
   "metadata": {},
   "outputs": [],
   "source": [
    "text = \"I am studying I played football. Students\""
   ]
  },
  {
   "cell_type": "code",
   "execution_count": 22,
   "id": "a8c91b8a",
   "metadata": {},
   "outputs": [
    {
     "name": "stdout",
     "output_type": "stream",
     "text": [
      "i\n",
      "am\n",
      "studi\n",
      "i\n",
      "play\n",
      "football.\n",
      "student\n"
     ]
    }
   ],
   "source": [
    "for w in text.split(' '):\n",
    "    print(porter.stem(w))"
   ]
  },
  {
   "cell_type": "code",
   "execution_count": 30,
   "id": "9eb3016b",
   "metadata": {},
   "outputs": [
    {
     "data": {
      "text/plain": [
       "'i am studi i play football. student'"
      ]
     },
     "execution_count": 30,
     "metadata": {},
     "output_type": "execute_result"
    }
   ],
   "source": [
    "' '.join([porter.stem(w) for w in text.split(' ')])"
   ]
  },
  {
   "cell_type": "code",
   "execution_count": 31,
   "id": "723d22f9",
   "metadata": {
    "collapsed": true
   },
   "outputs": [
    {
     "name": "stdout",
     "output_type": "stream",
     "text": [
      "how do films like mouse hunt get into theatres ? \r\n",
      "isn't there a law or something ? \r\n",
      "this diabolical load of claptrap from steven speilberg's dreamworks studio is hollywood family fare at its deadly worst . \r\n",
      "mouse hunt takes the bare threads of a plot and tries to prop it up with overacting and flat-out stupid slapstick that makes comedies like jingle all the way look decent by comparison . \r\n",
      "writer adam rifkin and director gore verbinski are the names chiefly responsible for this swill . \r\n",
      "the plot , for what its worth , concerns two brothers ( nathan lane and an appalling lee evens ) who inherit a poorly run string factory and a seemingly worthless house from their eccentric father . \r\n",
      "deciding to check out the long-abandoned house , they soon learn that it's worth a fortune and set about selling it in auction to the highest bidder . \r\n",
      "but battling them at every turn is a very smart mouse , happy with his run-down little abode and wanting it to stay that way . \r\n",
      "the story alternates between unfunny scenes of the brothers bickering over what to do with their inheritance and endless action sequences as the two take on their increasingly determined furry foe . \r\n",
      "whatever promise the film starts with soon deteriorates into boring dialogue , terrible overacting , and increasingly uninspired slapstick that becomes all sound and fury , signifying nothing . \r\n",
      "the script becomes so unspeakably bad that the best line poor lee evens can utter after another run in with the rodent is : \" i hate that mouse \" . \r\n",
      "oh cringe ! \r\n",
      "this is home alone all over again , and ten times worse . \r\n",
      "one touching scene early on is worth mentioning . \r\n",
      "we follow the mouse through a maze of walls and pipes until he arrives at his makeshift abode somewhere in a wall . \r\n",
      "he jumps into a tiny bed , pulls up a makeshift sheet and snuggles up to sleep , seemingly happy and just wanting to be left alone . \r\n",
      "it's a magical little moment in an otherwise soulless film . \r\n",
      "a message to speilberg : if you want dreamworks to be associated with some kind of artistic credibility , then either give all concerned in mouse hunt a swift kick up the arse or hire yourself some decent writers and directors . \r\n",
      "this kind of rubbish will just not do at all . \r\n",
      "\n"
     ]
    }
   ],
   "source": [
    "print(df['review'][0])"
   ]
  },
  {
   "cell_type": "code",
   "execution_count": 32,
   "id": "73592873",
   "metadata": {
    "collapsed": true
   },
   "outputs": [
    {
     "name": "stderr",
     "output_type": "stream",
     "text": [
      "C:\\Users\\Ahmed\\AppData\\Local\\Temp/ipykernel_996/4021159673.py:1: SettingWithCopyWarning: \n",
      "A value is trying to be set on a copy of a slice from a DataFrame.\n",
      "Try using .loc[row_indexer,col_indexer] = value instead\n",
      "\n",
      "See the caveats in the documentation: https://pandas.pydata.org/pandas-docs/stable/user_guide/indexing.html#returning-a-view-versus-a-copy\n",
      "  df['review'] = df['review'].apply(lambda x:' '.join([porter.stem(w) for w in x.split(' ')]))\n"
     ]
    }
   ],
   "source": [
    "df['review'] = df['review'].apply(lambda x:' '.join([porter.stem(w) for w in x.split(' ')]))"
   ]
  },
  {
   "cell_type": "code",
   "execution_count": 33,
   "id": "447d1d69",
   "metadata": {},
   "outputs": [
    {
     "name": "stdout",
     "output_type": "stream",
     "text": [
      "how do film like mous hunt get into theatr ? \r\n",
      "isn't there a law or someth ? \r\n",
      "thi diabol load of claptrap from steven speilberg' dreamwork studio is hollywood famili fare at it deadli worst . \r\n",
      "mous hunt take the bare thread of a plot and tri to prop it up with overact and flat-out stupid slapstick that make comedi like jingl all the way look decent by comparison . \r\n",
      "writer adam rifkin and director gore verbinski are the name chiefli respons for thi swill . \r\n",
      "the plot , for what it worth , concern two brother ( nathan lane and an appal lee even ) who inherit a poorli run string factori and a seemingli worthless hous from their eccentr father . \r\n",
      "decid to check out the long-abandon hous , they soon learn that it' worth a fortun and set about sell it in auction to the highest bidder . \r\n",
      "but battl them at everi turn is a veri smart mous , happi with hi run-down littl abod and want it to stay that way . \r\n",
      "the stori altern between unfunni scene of the brother bicker over what to do with their inherit and endless action sequenc as the two take on their increasingli determin furri foe . \r\n",
      "whatev promis the film start with soon deterior into bore dialogu , terribl overact , and increasingli uninspir slapstick that becom all sound and furi , signifi noth . \r\n",
      "the script becom so unspeak bad that the best line poor lee even can utter after anoth run in with the rodent is : \" i hate that mous \" . \r\n",
      "oh cring ! \r\n",
      "thi is home alon all over again , and ten time wors . \r\n",
      "one touch scene earli on is worth mention . \r\n",
      "we follow the mous through a maze of wall and pipe until he arriv at hi makeshift abod somewher in a wall . \r\n",
      "he jump into a tini bed , pull up a makeshift sheet and snuggl up to sleep , seemingli happi and just want to be left alon . \r\n",
      "it' a magic littl moment in an otherwis soulless film . \r\n",
      "a messag to speilberg : if you want dreamwork to be associ with some kind of artist credibl , then either give all concern in mous hunt a swift kick up the ars or hire yourself some decent writer and director . \r\n",
      "thi kind of rubbish will just not do at all . \r\n",
      "\n"
     ]
    }
   ],
   "source": [
    "print(df['review'][0])"
   ]
  },
  {
   "cell_type": "code",
   "execution_count": 34,
   "id": "4eea14e2",
   "metadata": {},
   "outputs": [],
   "source": [
    "import string"
   ]
  },
  {
   "cell_type": "code",
   "execution_count": 36,
   "id": "39aa6634",
   "metadata": {},
   "outputs": [
    {
     "data": {
      "text/plain": [
       "'!\"#$%&\\'()*+,-./:;<=>?@[\\\\]^_`{|}~'"
      ]
     },
     "execution_count": 36,
     "metadata": {},
     "output_type": "execute_result"
    }
   ],
   "source": [
    "punctuation = string.punctuation\n",
    "punctuation"
   ]
  },
  {
   "cell_type": "code",
   "execution_count": 38,
   "id": "c7edf7e5",
   "metadata": {
    "scrolled": true
   },
   "outputs": [
    {
     "data": {
      "text/plain": [
       "{33: None,\n",
       " 34: None,\n",
       " 35: None,\n",
       " 36: None,\n",
       " 37: None,\n",
       " 38: None,\n",
       " 39: None,\n",
       " 40: None,\n",
       " 41: None,\n",
       " 42: None,\n",
       " 43: None,\n",
       " 44: None,\n",
       " 45: None,\n",
       " 46: None,\n",
       " 47: None,\n",
       " 58: None,\n",
       " 59: None,\n",
       " 60: None,\n",
       " 61: None,\n",
       " 62: None,\n",
       " 63: None,\n",
       " 64: None,\n",
       " 91: None,\n",
       " 92: None,\n",
       " 93: None,\n",
       " 94: None,\n",
       " 95: None,\n",
       " 96: None,\n",
       " 123: None,\n",
       " 124: None,\n",
       " 125: None,\n",
       " 126: None}"
      ]
     },
     "execution_count": 38,
     "metadata": {},
     "output_type": "execute_result"
    }
   ],
   "source": [
    "table = str.maketrans('','',punctuation)\n",
    "table"
   ]
  },
  {
   "cell_type": "code",
   "execution_count": 39,
   "id": "64f8b5b7",
   "metadata": {},
   "outputs": [
    {
     "data": {
      "text/plain": [
       "'hello how  ahmed'"
      ]
     },
     "execution_count": 39,
     "metadata": {},
     "output_type": "execute_result"
    }
   ],
   "source": [
    "text = \"hello, how?.  ahmed.\"\n",
    "text.translate(table)"
   ]
  },
  {
   "cell_type": "code",
   "execution_count": 40,
   "id": "40902580",
   "metadata": {},
   "outputs": [
    {
     "name": "stderr",
     "output_type": "stream",
     "text": [
      "C:\\Users\\Ahmed\\AppData\\Local\\Temp/ipykernel_996/201257397.py:1: SettingWithCopyWarning: \n",
      "A value is trying to be set on a copy of a slice from a DataFrame.\n",
      "Try using .loc[row_indexer,col_indexer] = value instead\n",
      "\n",
      "See the caveats in the documentation: https://pandas.pydata.org/pandas-docs/stable/user_guide/indexing.html#returning-a-view-versus-a-copy\n",
      "  df['review'] = df['review'].apply(lambda x: str(x).translate(table))\n"
     ]
    }
   ],
   "source": [
    "df['review'] = df['review'].apply(lambda x: str(x).translate(table))"
   ]
  },
  {
   "cell_type": "code",
   "execution_count": 41,
   "id": "a5640854",
   "metadata": {},
   "outputs": [
    {
     "name": "stdout",
     "output_type": "stream",
     "text": [
      "how do film like mous hunt get into theatr  \r\n",
      "isnt there a law or someth  \r\n",
      "thi diabol load of claptrap from steven speilberg dreamwork studio is hollywood famili fare at it deadli worst  \r\n",
      "mous hunt take the bare thread of a plot and tri to prop it up with overact and flatout stupid slapstick that make comedi like jingl all the way look decent by comparison  \r\n",
      "writer adam rifkin and director gore verbinski are the name chiefli respons for thi swill  \r\n",
      "the plot  for what it worth  concern two brother  nathan lane and an appal lee even  who inherit a poorli run string factori and a seemingli worthless hous from their eccentr father  \r\n",
      "decid to check out the longabandon hous  they soon learn that it worth a fortun and set about sell it in auction to the highest bidder  \r\n",
      "but battl them at everi turn is a veri smart mous  happi with hi rundown littl abod and want it to stay that way  \r\n",
      "the stori altern between unfunni scene of the brother bicker over what to do with their inherit and endless action sequenc as the two take on their increasingli determin furri foe  \r\n",
      "whatev promis the film start with soon deterior into bore dialogu  terribl overact  and increasingli uninspir slapstick that becom all sound and furi  signifi noth  \r\n",
      "the script becom so unspeak bad that the best line poor lee even can utter after anoth run in with the rodent is   i hate that mous   \r\n",
      "oh cring  \r\n",
      "thi is home alon all over again  and ten time wors  \r\n",
      "one touch scene earli on is worth mention  \r\n",
      "we follow the mous through a maze of wall and pipe until he arriv at hi makeshift abod somewher in a wall  \r\n",
      "he jump into a tini bed  pull up a makeshift sheet and snuggl up to sleep  seemingli happi and just want to be left alon  \r\n",
      "it a magic littl moment in an otherwis soulless film  \r\n",
      "a messag to speilberg  if you want dreamwork to be associ with some kind of artist credibl  then either give all concern in mous hunt a swift kick up the ars or hire yourself some decent writer and director  \r\n",
      "thi kind of rubbish will just not do at all  \r\n",
      "\n"
     ]
    }
   ],
   "source": [
    "print(df['review'][0])"
   ]
  },
  {
   "cell_type": "code",
   "execution_count": 42,
   "id": "c22d8fb8",
   "metadata": {},
   "outputs": [],
   "source": [
    "from nltk.corpus import stopwords"
   ]
  },
  {
   "cell_type": "code",
   "execution_count": 44,
   "id": "1582b89b",
   "metadata": {},
   "outputs": [],
   "source": [
    "stop = stopwords.words(\"english\")"
   ]
  },
  {
   "cell_type": "code",
   "execution_count": 45,
   "id": "448c85fb",
   "metadata": {},
   "outputs": [
    {
     "data": {
      "text/plain": [
       "179"
      ]
     },
     "execution_count": 45,
     "metadata": {},
     "output_type": "execute_result"
    }
   ],
   "source": [
    "len(stop)"
   ]
  },
  {
   "cell_type": "code",
   "execution_count": 46,
   "id": "119d5984",
   "metadata": {},
   "outputs": [],
   "source": [
    "df['review'] = df['review'].apply(lambda x:' '.join([w for w in x.split(' ') if w not in stop]))"
   ]
  },
  {
   "cell_type": "code",
   "execution_count": 47,
   "id": "48f9f1ca",
   "metadata": {},
   "outputs": [
    {
     "name": "stdout",
     "output_type": "stream",
     "text": [
      "film like mous hunt get theatr  \r\n",
      "isnt law someth  \r\n",
      "thi diabol load claptrap steven speilberg dreamwork studio hollywood famili fare deadli worst  \r\n",
      "mous hunt take bare thread plot tri prop overact flatout stupid slapstick make comedi like jingl way look decent comparison  \r\n",
      "writer adam rifkin director gore verbinski name chiefli respons thi swill  \r\n",
      "the plot  worth  concern two brother  nathan lane appal lee even  inherit poorli run string factori seemingli worthless hous eccentr father  \r\n",
      "decid check longabandon hous  soon learn worth fortun set sell auction highest bidder  \r\n",
      "but battl everi turn veri smart mous  happi hi rundown littl abod want stay way  \r\n",
      "the stori altern unfunni scene brother bicker inherit endless action sequenc two take increasingli determin furri foe  \r\n",
      "whatev promis film start soon deterior bore dialogu  terribl overact  increasingli uninspir slapstick becom sound furi  signifi noth  \r\n",
      "the script becom unspeak bad best line poor lee even utter anoth run rodent   hate mous   \r\n",
      "oh cring  \r\n",
      "thi home alon  ten time wors  \r\n",
      "one touch scene earli worth mention  \r\n",
      "we follow mous maze wall pipe arriv hi makeshift abod somewher wall  \r\n",
      "he jump tini bed  pull makeshift sheet snuggl sleep  seemingli happi want left alon  \r\n",
      "it magic littl moment otherwis soulless film  \r\n",
      "a messag speilberg  want dreamwork associ kind artist credibl  either give concern mous hunt swift kick ars hire decent writer director  \r\n",
      "thi kind rubbish  \r\n",
      "\n"
     ]
    }
   ],
   "source": [
    "print(df['review'][0])"
   ]
  },
  {
   "cell_type": "code",
   "execution_count": null,
   "id": "c66d8e05",
   "metadata": {},
   "outputs": [],
   "source": []
  }
 ],
 "metadata": {
  "kernelspec": {
   "display_name": "Python 3 (ipykernel)",
   "language": "python",
   "name": "python3"
  },
  "language_info": {
   "codemirror_mode": {
    "name": "ipython",
    "version": 3
   },
   "file_extension": ".py",
   "mimetype": "text/x-python",
   "name": "python",
   "nbconvert_exporter": "python",
   "pygments_lexer": "ipython3",
   "version": "3.9.7"
  }
 },
 "nbformat": 4,
 "nbformat_minor": 5
}
