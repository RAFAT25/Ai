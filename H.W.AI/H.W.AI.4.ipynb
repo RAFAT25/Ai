{
 "cells": [
  {
   "cell_type": "code",
   "execution_count": 1,
   "id": "cc8c824f",
   "metadata": {},
   "outputs": [],
   "source": [
    "import pandas as pd"
   ]
  },
  {
   "cell_type": "code",
   "execution_count": 2,
   "id": "c85f5f1f",
   "metadata": {},
   "outputs": [],
   "source": [
    "df = pd.read_csv(\"topical_chat.csv\")"
   ]
  },
  {
   "cell_type": "code",
   "execution_count": 3,
   "id": "54f374fa",
   "metadata": {},
   "outputs": [
    {
     "data": {
      "text/html": [
       "<div>\n",
       "<style scoped>\n",
       "    .dataframe tbody tr th:only-of-type {\n",
       "        vertical-align: middle;\n",
       "    }\n",
       "\n",
       "    .dataframe tbody tr th {\n",
       "        vertical-align: top;\n",
       "    }\n",
       "\n",
       "    .dataframe thead th {\n",
       "        text-align: right;\n",
       "    }\n",
       "</style>\n",
       "<table border=\"1\" class=\"dataframe\">\n",
       "  <thead>\n",
       "    <tr style=\"text-align: right;\">\n",
       "      <th></th>\n",
       "      <th>conversation_id</th>\n",
       "      <th>message</th>\n",
       "      <th>sentiment</th>\n",
       "    </tr>\n",
       "  </thead>\n",
       "  <tbody>\n",
       "    <tr>\n",
       "      <th>0</th>\n",
       "      <td>1</td>\n",
       "      <td>Are you a fan of Google or Microsoft? Both ar...</td>\n",
       "      <td>Curious to dive deeper</td>\n",
       "    </tr>\n",
       "    <tr>\n",
       "      <th>1</th>\n",
       "      <td>1</td>\n",
       "      <td>Both are excellent technology they are helpfu...</td>\n",
       "      <td>Curious to dive deeper</td>\n",
       "    </tr>\n",
       "    <tr>\n",
       "      <th>2</th>\n",
       "      <td>1</td>\n",
       "      <td>I'm not  a huge fan of Google, but I use it a...</td>\n",
       "      <td>Curious to dive deeper</td>\n",
       "    </tr>\n",
       "    <tr>\n",
       "      <th>3</th>\n",
       "      <td>1</td>\n",
       "      <td>Google provides online related services and p...</td>\n",
       "      <td>Curious to dive deeper</td>\n",
       "    </tr>\n",
       "    <tr>\n",
       "      <th>4</th>\n",
       "      <td>1</td>\n",
       "      <td>Yeah, their services are good. I'm just not a...</td>\n",
       "      <td>Curious to dive deeper</td>\n",
       "    </tr>\n",
       "  </tbody>\n",
       "</table>\n",
       "</div>"
      ],
      "text/plain": [
       "   conversation_id                                            message  \\\n",
       "0                1   Are you a fan of Google or Microsoft? Both ar...   \n",
       "1                1   Both are excellent technology they are helpfu...   \n",
       "2                1   I'm not  a huge fan of Google, but I use it a...   \n",
       "3                1   Google provides online related services and p...   \n",
       "4                1   Yeah, their services are good. I'm just not a...   \n",
       "\n",
       "                 sentiment  \n",
       "0   Curious to dive deeper  \n",
       "1   Curious to dive deeper  \n",
       "2   Curious to dive deeper  \n",
       "3   Curious to dive deeper  \n",
       "4   Curious to dive deeper  "
      ]
     },
     "execution_count": 3,
     "metadata": {},
     "output_type": "execute_result"
    }
   ],
   "source": [
    "df.head()"
   ]
  },
  {
   "cell_type": "code",
   "execution_count": 4,
   "id": "1e5052f2",
   "metadata": {},
   "outputs": [
    {
     "data": {
      "text/html": [
       "<div>\n",
       "<style scoped>\n",
       "    .dataframe tbody tr th:only-of-type {\n",
       "        vertical-align: middle;\n",
       "    }\n",
       "\n",
       "    .dataframe tbody tr th {\n",
       "        vertical-align: top;\n",
       "    }\n",
       "\n",
       "    .dataframe thead th {\n",
       "        text-align: right;\n",
       "    }\n",
       "</style>\n",
       "<table border=\"1\" class=\"dataframe\">\n",
       "  <thead>\n",
       "    <tr style=\"text-align: right;\">\n",
       "      <th></th>\n",
       "      <th>conversation_id</th>\n",
       "      <th>message</th>\n",
       "      <th>sentiment</th>\n",
       "    </tr>\n",
       "  </thead>\n",
       "  <tbody>\n",
       "    <tr>\n",
       "      <th>188373</th>\n",
       "      <td>8628</td>\n",
       "      <td>Wow, it does not seem like that long. Since I...</td>\n",
       "      <td>Surprised</td>\n",
       "    </tr>\n",
       "    <tr>\n",
       "      <th>188374</th>\n",
       "      <td>8628</td>\n",
       "      <td>I havent seen that episode, I might google it...</td>\n",
       "      <td>Curious to dive deeper</td>\n",
       "    </tr>\n",
       "    <tr>\n",
       "      <th>188375</th>\n",
       "      <td>8628</td>\n",
       "      <td>I don't think I have either. That's an insane...</td>\n",
       "      <td>Curious to dive deeper</td>\n",
       "    </tr>\n",
       "    <tr>\n",
       "      <th>188376</th>\n",
       "      <td>8628</td>\n",
       "      <td>I did, my little brother used to love Thomas ...</td>\n",
       "      <td>Happy</td>\n",
       "    </tr>\n",
       "    <tr>\n",
       "      <th>188377</th>\n",
       "      <td>8628</td>\n",
       "      <td>It did. Ringo Starr, George Carlin, and Alec ...</td>\n",
       "      <td>Neutral</td>\n",
       "    </tr>\n",
       "  </tbody>\n",
       "</table>\n",
       "</div>"
      ],
      "text/plain": [
       "        conversation_id                                            message  \\\n",
       "188373             8628   Wow, it does not seem like that long. Since I...   \n",
       "188374             8628   I havent seen that episode, I might google it...   \n",
       "188375             8628   I don't think I have either. That's an insane...   \n",
       "188376             8628   I did, my little brother used to love Thomas ...   \n",
       "188377             8628   It did. Ringo Starr, George Carlin, and Alec ...   \n",
       "\n",
       "                      sentiment  \n",
       "188373                Surprised  \n",
       "188374   Curious to dive deeper  \n",
       "188375   Curious to dive deeper  \n",
       "188376                    Happy  \n",
       "188377                  Neutral  "
      ]
     },
     "execution_count": 4,
     "metadata": {},
     "output_type": "execute_result"
    }
   ],
   "source": [
    "df.tail()"
   ]
  },
  {
   "cell_type": "code",
   "execution_count": 5,
   "id": "7f1e25e7",
   "metadata": {},
   "outputs": [
    {
     "data": {
      "text/plain": [
       "conversation_id    0\n",
       "message            0\n",
       "sentiment          0\n",
       "dtype: int64"
      ]
     },
     "execution_count": 5,
     "metadata": {},
     "output_type": "execute_result"
    }
   ],
   "source": [
    "df.isnull().sum()"
   ]
  },
  {
   "cell_type": "code",
   "execution_count": 6,
   "id": "7f03c257",
   "metadata": {},
   "outputs": [],
   "source": [
    "df.dropna(inplace=True)"
   ]
  },
  {
   "cell_type": "code",
   "execution_count": 7,
   "id": "85099765",
   "metadata": {},
   "outputs": [],
   "source": [
    "x=df[\"message\"]\n",
    "y=df['sentiment']"
   ]
  },
  {
   "cell_type": "code",
   "execution_count": 8,
   "id": "628f45cf",
   "metadata": {},
   "outputs": [],
   "source": [
    "from  sklearn.model_selection import train_test_split"
   ]
  },
  {
   "cell_type": "code",
   "execution_count": 9,
   "id": "f52ee350",
   "metadata": {},
   "outputs": [],
   "source": [
    "x_train,x_test,y_train,y_test=train_test_split(x,y,test_size=0.3,random_state=42)"
   ]
  },
  {
   "cell_type": "code",
   "execution_count": 10,
   "id": "4657001d",
   "metadata": {},
   "outputs": [
    {
     "data": {
      "text/plain": [
       "(131864,)"
      ]
     },
     "execution_count": 10,
     "metadata": {},
     "output_type": "execute_result"
    }
   ],
   "source": [
    "x_train.shape"
   ]
  },
  {
   "cell_type": "code",
   "execution_count": 11,
   "id": "7de084bd",
   "metadata": {},
   "outputs": [
    {
     "data": {
      "text/plain": [
       "91755      Yes it is truly amazing. I am sad to learn th...\n",
       "111327     I don't like drama that much.  It feels somet...\n",
       "170973     Every wideout who has played here, there was ...\n",
       "59384      I think it's because she's becoming more of l...\n",
       "80696      That's very awesome they do that. Good for th...\n",
       "                                ...                        \n",
       "119879     I was aware of most of that. I knew it appear...\n",
       "103694           I do, I love music videos, what about you?\n",
       "131932     It definitely seems that he'd be the angry ty...\n",
       "146867     Yes and now those companies turned out to be ...\n",
       "121958     Yeah, no one know the suffering of the famili...\n",
       "Name: message, Length: 131864, dtype: object"
      ]
     },
     "execution_count": 11,
     "metadata": {},
     "output_type": "execute_result"
    }
   ],
   "source": [
    "x_train"
   ]
  },
  {
   "cell_type": "code",
   "execution_count": 12,
   "id": "f0f1af0d",
   "metadata": {},
   "outputs": [],
   "source": [
    "from sklearn.feature_extraction.text import TfidfVectorizer\n",
    "from sklearn.pipeline import Pipeline\n",
    "from sklearn.naive_bayes import MultinomialNB\n",
    "from sklearn.svm import LinearSVC"
   ]
  },
  {
   "cell_type": "code",
   "execution_count": 13,
   "id": "88778a58",
   "metadata": {},
   "outputs": [],
   "source": [
    "nv_classfier=Pipeline([(\"TfIdf\",TfidfVectorizer()),(\"naive_bayes\",MultinomialNB())])\n",
    "svm_clssfire=Pipeline([(\"TfIdf\",TfidfVectorizer()),(\"svm\",LinearSVC())])"
   ]
  },
  {
   "cell_type": "code",
   "execution_count": 14,
   "id": "2d7a1227",
   "metadata": {},
   "outputs": [],
   "source": [
    "from sklearn.metrics import accuracy_score"
   ]
  },
  {
   "cell_type": "code",
   "execution_count": 15,
   "id": "73adddb4",
   "metadata": {},
   "outputs": [
    {
     "data": {
      "text/plain": [
       "Pipeline(steps=[('TfIdf', TfidfVectorizer()), ('naive_bayes', MultinomialNB())])"
      ]
     },
     "execution_count": 15,
     "metadata": {},
     "output_type": "execute_result"
    }
   ],
   "source": [
    "nv_classfier.fit(x_train,y_train)"
   ]
  },
  {
   "cell_type": "code",
   "execution_count": 16,
   "id": "f0e829e2",
   "metadata": {},
   "outputs": [],
   "source": [
    "prediction=nv_classfier.predict(x_test)"
   ]
  },
  {
   "cell_type": "code",
   "execution_count": 17,
   "id": "7fc3c0ca",
   "metadata": {},
   "outputs": [
    {
     "data": {
      "text/plain": [
       "0.4511979332554765"
      ]
     },
     "execution_count": 17,
     "metadata": {},
     "output_type": "execute_result"
    }
   ],
   "source": [
    "accuracy_score(y_test,prediction)"
   ]
  },
  {
   "cell_type": "code",
   "execution_count": 18,
   "id": "f76477c6",
   "metadata": {},
   "outputs": [
    {
     "data": {
      "text/plain": [
       "array([' Curious to dive deeper'], dtype='<U23')"
      ]
     },
     "execution_count": 18,
     "metadata": {},
     "output_type": "execute_result"
    }
   ],
   "source": [
    "nv_classfier.predict(['l love you my heart'])"
   ]
  },
  {
   "cell_type": "code",
   "execution_count": 19,
   "id": "e32a582f",
   "metadata": {},
   "outputs": [
    {
     "data": {
      "text/plain": [
       "Pipeline(steps=[('TfIdf', TfidfVectorizer()), ('svm', LinearSVC())])"
      ]
     },
     "execution_count": 19,
     "metadata": {},
     "output_type": "execute_result"
    }
   ],
   "source": [
    "svm_clssfire.fit(x_train,y_train)"
   ]
  },
  {
   "cell_type": "code",
   "execution_count": 20,
   "id": "e1e6007d",
   "metadata": {},
   "outputs": [],
   "source": [
    "prediction_svm=svm_clssfire.predict(x_test)"
   ]
  },
  {
   "cell_type": "code",
   "execution_count": 21,
   "id": "39acdc50",
   "metadata": {},
   "outputs": [
    {
     "data": {
      "text/plain": [
       "0.4830307534416251"
      ]
     },
     "execution_count": 21,
     "metadata": {},
     "output_type": "execute_result"
    }
   ],
   "source": [
    "accuracy_score(y_test,prediction_svm)"
   ]
  },
  {
   "cell_type": "code",
   "execution_count": 22,
   "id": "7daf5d00",
   "metadata": {},
   "outputs": [
    {
     "data": {
      "text/plain": [
       "array([' Happy', ' Curious to dive deeper'], dtype=object)"
      ]
     },
     "execution_count": 22,
     "metadata": {},
     "output_type": "execute_result"
    }
   ],
   "source": [
    "svm_clssfire.predict(['l love you my heart','I LIKE IT'])"
   ]
  },
  {
   "cell_type": "code",
   "execution_count": 23,
   "id": "ab9422c6",
   "metadata": {},
   "outputs": [
    {
     "data": {
      "text/plain": [
       "array([' Happy', ' Curious to dive deeper'], dtype=object)"
      ]
     },
     "execution_count": 23,
     "metadata": {},
     "output_type": "execute_result"
    }
   ],
   "source": [
    "svm_clssfire.predict(['l love you my heart','I LIKE IT'])"
   ]
  },
  {
   "cell_type": "code",
   "execution_count": 25,
   "id": "9e1ddf0b",
   "metadata": {},
   "outputs": [
    {
     "data": {
      "text/plain": [
       "array([' Happy', ' Curious to dive deeper'], dtype=object)"
      ]
     },
     "execution_count": 25,
     "metadata": {},
     "output_type": "execute_result"
    }
   ],
   "source": [
    "svm_clssfire.predict(['l love you my heart','Hi, how are you?'])"
   ]
  },
  {
   "cell_type": "code",
   "execution_count": 26,
   "id": "346de7d8",
   "metadata": {},
   "outputs": [
    {
     "data": {
      "text/plain": [
       "array([' Curious to dive deeper'], dtype='<U23')"
      ]
     },
     "execution_count": 26,
     "metadata": {},
     "output_type": "execute_result"
    }
   ],
   "source": [
    "nv_classfier.predict(['Hi, how are you?'])"
   ]
  },
  {
   "cell_type": "code",
   "execution_count": null,
   "id": "c1dca214",
   "metadata": {},
   "outputs": [],
   "source": []
  }
 ],
 "metadata": {
  "kernelspec": {
   "display_name": "Python 3 (ipykernel)",
   "language": "python",
   "name": "python3"
  },
  "language_info": {
   "codemirror_mode": {
    "name": "ipython",
    "version": 3
   },
   "file_extension": ".py",
   "mimetype": "text/x-python",
   "name": "python",
   "nbconvert_exporter": "python",
   "pygments_lexer": "ipython3",
   "version": "3.9.7"
  }
 },
 "nbformat": 4,
 "nbformat_minor": 5
}
